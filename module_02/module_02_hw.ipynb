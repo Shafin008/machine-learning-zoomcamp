{
 "cells": [
  {
   "cell_type": "code",
   "execution_count": 1,
   "id": "559c9b17-63df-4f19-93ee-0026b70bdf82",
   "metadata": {},
   "outputs": [],
   "source": [
    "import numpy as np\n",
    "import matplotlib.pyplot as plt\n",
    "import pandas as pd\n",
    "import seaborn as sns"
   ]
  },
  {
   "cell_type": "markdown",
   "id": "38e040a2-ff8b-4f31-9fab-fd8bc5e6be26",
   "metadata": {},
   "source": [
    "## Dataset"
   ]
  },
  {
   "cell_type": "code",
   "execution_count": 2,
   "id": "666c1c11-1cbe-451f-ab47-e4bee5a64169",
   "metadata": {},
   "outputs": [
    {
     "name": "stderr",
     "output_type": "stream",
     "text": [
      "  % Total    % Received % Xferd  Average Speed   Time    Time     Time  Current\n",
      "                                 Dload  Upload   Total   Spent    Left  Speed\n",
      "\n",
      "  0     0    0     0    0     0      0      0 --:--:-- --:--:-- --:--:--     0\n",
      " 13  853k   13  112k    0     0   191k      0  0:00:04 --:--:--  0:00:04  191k\n",
      "100  853k  100  853k    0     0   932k      0 --:--:-- --:--:-- --:--:--  933k\n"
     ]
    }
   ],
   "source": [
    "!curl -O https://raw.githubusercontent.com/alexeygrigorev/datasets/master/car_fuel_efficiency.csv"
   ]
  },
  {
   "cell_type": "code",
   "execution_count": 3,
   "id": "469d63e6-c49a-4ee6-b4e5-7d20508089af",
   "metadata": {},
   "outputs": [],
   "source": [
    "df = pd.read_csv('car_fuel_efficiency.csv')"
   ]
  },
  {
   "cell_type": "code",
   "execution_count": 4,
   "id": "f7ac8a58-317e-4741-82f0-f8da1511f2d3",
   "metadata": {},
   "outputs": [
    {
     "data": {
      "text/html": [
       "<div>\n",
       "<style scoped>\n",
       "    .dataframe tbody tr th:only-of-type {\n",
       "        vertical-align: middle;\n",
       "    }\n",
       "\n",
       "    .dataframe tbody tr th {\n",
       "        vertical-align: top;\n",
       "    }\n",
       "\n",
       "    .dataframe thead th {\n",
       "        text-align: right;\n",
       "    }\n",
       "</style>\n",
       "<table border=\"1\" class=\"dataframe\">\n",
       "  <thead>\n",
       "    <tr style=\"text-align: right;\">\n",
       "      <th></th>\n",
       "      <th>engine_displacement</th>\n",
       "      <th>num_cylinders</th>\n",
       "      <th>horsepower</th>\n",
       "      <th>vehicle_weight</th>\n",
       "      <th>acceleration</th>\n",
       "      <th>model_year</th>\n",
       "      <th>origin</th>\n",
       "      <th>fuel_type</th>\n",
       "      <th>drivetrain</th>\n",
       "      <th>num_doors</th>\n",
       "      <th>fuel_efficiency_mpg</th>\n",
       "    </tr>\n",
       "  </thead>\n",
       "  <tbody>\n",
       "    <tr>\n",
       "      <th>0</th>\n",
       "      <td>170</td>\n",
       "      <td>3.0</td>\n",
       "      <td>159.0</td>\n",
       "      <td>3413.433759</td>\n",
       "      <td>17.7</td>\n",
       "      <td>2003</td>\n",
       "      <td>Europe</td>\n",
       "      <td>Gasoline</td>\n",
       "      <td>All-wheel drive</td>\n",
       "      <td>0.0</td>\n",
       "      <td>13.231729</td>\n",
       "    </tr>\n",
       "    <tr>\n",
       "      <th>1</th>\n",
       "      <td>130</td>\n",
       "      <td>5.0</td>\n",
       "      <td>97.0</td>\n",
       "      <td>3149.664934</td>\n",
       "      <td>17.8</td>\n",
       "      <td>2007</td>\n",
       "      <td>USA</td>\n",
       "      <td>Gasoline</td>\n",
       "      <td>Front-wheel drive</td>\n",
       "      <td>0.0</td>\n",
       "      <td>13.688217</td>\n",
       "    </tr>\n",
       "    <tr>\n",
       "      <th>2</th>\n",
       "      <td>170</td>\n",
       "      <td>NaN</td>\n",
       "      <td>78.0</td>\n",
       "      <td>3079.038997</td>\n",
       "      <td>15.1</td>\n",
       "      <td>2018</td>\n",
       "      <td>Europe</td>\n",
       "      <td>Gasoline</td>\n",
       "      <td>Front-wheel drive</td>\n",
       "      <td>0.0</td>\n",
       "      <td>14.246341</td>\n",
       "    </tr>\n",
       "    <tr>\n",
       "      <th>3</th>\n",
       "      <td>220</td>\n",
       "      <td>4.0</td>\n",
       "      <td>NaN</td>\n",
       "      <td>2542.392402</td>\n",
       "      <td>20.2</td>\n",
       "      <td>2009</td>\n",
       "      <td>USA</td>\n",
       "      <td>Diesel</td>\n",
       "      <td>All-wheel drive</td>\n",
       "      <td>2.0</td>\n",
       "      <td>16.912736</td>\n",
       "    </tr>\n",
       "    <tr>\n",
       "      <th>4</th>\n",
       "      <td>210</td>\n",
       "      <td>1.0</td>\n",
       "      <td>140.0</td>\n",
       "      <td>3460.870990</td>\n",
       "      <td>14.4</td>\n",
       "      <td>2009</td>\n",
       "      <td>Europe</td>\n",
       "      <td>Gasoline</td>\n",
       "      <td>All-wheel drive</td>\n",
       "      <td>2.0</td>\n",
       "      <td>12.488369</td>\n",
       "    </tr>\n",
       "  </tbody>\n",
       "</table>\n",
       "</div>"
      ],
      "text/plain": [
       "   engine_displacement  num_cylinders  horsepower  vehicle_weight  \\\n",
       "0                  170            3.0       159.0     3413.433759   \n",
       "1                  130            5.0        97.0     3149.664934   \n",
       "2                  170            NaN        78.0     3079.038997   \n",
       "3                  220            4.0         NaN     2542.392402   \n",
       "4                  210            1.0       140.0     3460.870990   \n",
       "\n",
       "   acceleration  model_year  origin fuel_type         drivetrain  num_doors  \\\n",
       "0          17.7        2003  Europe  Gasoline    All-wheel drive        0.0   \n",
       "1          17.8        2007     USA  Gasoline  Front-wheel drive        0.0   \n",
       "2          15.1        2018  Europe  Gasoline  Front-wheel drive        0.0   \n",
       "3          20.2        2009     USA    Diesel    All-wheel drive        2.0   \n",
       "4          14.4        2009  Europe  Gasoline    All-wheel drive        2.0   \n",
       "\n",
       "   fuel_efficiency_mpg  \n",
       "0            13.231729  \n",
       "1            13.688217  \n",
       "2            14.246341  \n",
       "3            16.912736  \n",
       "4            12.488369  "
      ]
     },
     "execution_count": 4,
     "metadata": {},
     "output_type": "execute_result"
    }
   ],
   "source": [
    "df.head()"
   ]
  },
  {
   "cell_type": "code",
   "execution_count": 5,
   "id": "0fe98871-577d-40f5-91e5-4601399df040",
   "metadata": {},
   "outputs": [
    {
     "name": "stdout",
     "output_type": "stream",
     "text": [
      "<class 'pandas.core.frame.DataFrame'>\n",
      "RangeIndex: 9704 entries, 0 to 9703\n",
      "Data columns (total 11 columns):\n",
      " #   Column               Non-Null Count  Dtype  \n",
      "---  ------               --------------  -----  \n",
      " 0   engine_displacement  9704 non-null   int64  \n",
      " 1   num_cylinders        9222 non-null   float64\n",
      " 2   horsepower           8996 non-null   float64\n",
      " 3   vehicle_weight       9704 non-null   float64\n",
      " 4   acceleration         8774 non-null   float64\n",
      " 5   model_year           9704 non-null   int64  \n",
      " 6   origin               9704 non-null   object \n",
      " 7   fuel_type            9704 non-null   object \n",
      " 8   drivetrain           9704 non-null   object \n",
      " 9   num_doors            9202 non-null   float64\n",
      " 10  fuel_efficiency_mpg  9704 non-null   float64\n",
      "dtypes: float64(6), int64(2), object(3)\n",
      "memory usage: 834.1+ KB\n"
     ]
    }
   ],
   "source": [
    "df.info()"
   ]
  },
  {
   "cell_type": "markdown",
   "id": "1134adaa-b59d-4b7f-82d7-575b45342d51",
   "metadata": {},
   "source": [
    "The goal of this homework is to create a regression model for predicting the car fuel efficiency (column 'fuel_efficiency_mpg')."
   ]
  },
  {
   "cell_type": "code",
   "execution_count": 6,
   "id": "413e7b8b-9516-4f92-968e-f724655da251",
   "metadata": {},
   "outputs": [],
   "source": [
    "# Making a copy of the original dataset\n",
    "orig_df = df.copy()"
   ]
  },
  {
   "cell_type": "markdown",
   "id": "8a9342de-5e4b-4151-b1fc-fe9502e99d8a",
   "metadata": {},
   "source": [
    "## Preparing the dataset\n",
    "Use only the following columns:\n",
    "```\n",
    "'engine_displacement',\n",
    "'horsepower',\n",
    "'vehicle_weight',\n",
    "'model_year',\n",
    "'fuel_efficiency_mpg'\n",
    "```"
   ]
  },
  {
   "cell_type": "code",
   "execution_count": 7,
   "id": "a546b8f9-cf65-41a0-8e4b-07fe7ed1f905",
   "metadata": {},
   "outputs": [],
   "source": [
    "cols = ['engine_displacement', 'horsepower', 'vehicle_weight', 'model_year', 'fuel_efficiency_mpg']\n",
    "df = df[cols]"
   ]
  },
  {
   "cell_type": "code",
   "execution_count": 8,
   "id": "d857aed4-bac2-44d4-ab75-83b87f83464d",
   "metadata": {},
   "outputs": [
    {
     "data": {
      "text/html": [
       "<div>\n",
       "<style scoped>\n",
       "    .dataframe tbody tr th:only-of-type {\n",
       "        vertical-align: middle;\n",
       "    }\n",
       "\n",
       "    .dataframe tbody tr th {\n",
       "        vertical-align: top;\n",
       "    }\n",
       "\n",
       "    .dataframe thead th {\n",
       "        text-align: right;\n",
       "    }\n",
       "</style>\n",
       "<table border=\"1\" class=\"dataframe\">\n",
       "  <thead>\n",
       "    <tr style=\"text-align: right;\">\n",
       "      <th></th>\n",
       "      <th>engine_displacement</th>\n",
       "      <th>horsepower</th>\n",
       "      <th>vehicle_weight</th>\n",
       "      <th>model_year</th>\n",
       "      <th>fuel_efficiency_mpg</th>\n",
       "    </tr>\n",
       "  </thead>\n",
       "  <tbody>\n",
       "    <tr>\n",
       "      <th>0</th>\n",
       "      <td>170</td>\n",
       "      <td>159.0</td>\n",
       "      <td>3413.433759</td>\n",
       "      <td>2003</td>\n",
       "      <td>13.231729</td>\n",
       "    </tr>\n",
       "    <tr>\n",
       "      <th>1</th>\n",
       "      <td>130</td>\n",
       "      <td>97.0</td>\n",
       "      <td>3149.664934</td>\n",
       "      <td>2007</td>\n",
       "      <td>13.688217</td>\n",
       "    </tr>\n",
       "    <tr>\n",
       "      <th>2</th>\n",
       "      <td>170</td>\n",
       "      <td>78.0</td>\n",
       "      <td>3079.038997</td>\n",
       "      <td>2018</td>\n",
       "      <td>14.246341</td>\n",
       "    </tr>\n",
       "    <tr>\n",
       "      <th>3</th>\n",
       "      <td>220</td>\n",
       "      <td>NaN</td>\n",
       "      <td>2542.392402</td>\n",
       "      <td>2009</td>\n",
       "      <td>16.912736</td>\n",
       "    </tr>\n",
       "    <tr>\n",
       "      <th>4</th>\n",
       "      <td>210</td>\n",
       "      <td>140.0</td>\n",
       "      <td>3460.870990</td>\n",
       "      <td>2009</td>\n",
       "      <td>12.488369</td>\n",
       "    </tr>\n",
       "  </tbody>\n",
       "</table>\n",
       "</div>"
      ],
      "text/plain": [
       "   engine_displacement  horsepower  vehicle_weight  model_year  \\\n",
       "0                  170       159.0     3413.433759        2003   \n",
       "1                  130        97.0     3149.664934        2007   \n",
       "2                  170        78.0     3079.038997        2018   \n",
       "3                  220         NaN     2542.392402        2009   \n",
       "4                  210       140.0     3460.870990        2009   \n",
       "\n",
       "   fuel_efficiency_mpg  \n",
       "0            13.231729  \n",
       "1            13.688217  \n",
       "2            14.246341  \n",
       "3            16.912736  \n",
       "4            12.488369  "
      ]
     },
     "execution_count": 8,
     "metadata": {},
     "output_type": "execute_result"
    }
   ],
   "source": [
    "df.head()"
   ]
  },
  {
   "cell_type": "markdown",
   "id": "ecfdf29f-bafd-4d6b-843a-e006304529be",
   "metadata": {},
   "source": [
    "## EDA\n",
    "Look at the `fuel_efficiency_mpg` variable. Does it have a long tail?"
   ]
  },
  {
   "cell_type": "code",
   "execution_count": 9,
   "id": "5aff6b90-66a4-41cd-af67-83f7e3f21154",
   "metadata": {},
   "outputs": [
    {
     "data": {
      "text/plain": [
       "0       13.231729\n",
       "1       13.688217\n",
       "2       14.246341\n",
       "3       16.912736\n",
       "4       12.488369\n",
       "          ...    \n",
       "9699    15.101802\n",
       "9700    17.962326\n",
       "9701    17.186587\n",
       "9702    15.331551\n",
       "9703    14.884467\n",
       "Name: fuel_efficiency_mpg, Length: 9704, dtype: float64"
      ]
     },
     "execution_count": 9,
     "metadata": {},
     "output_type": "execute_result"
    }
   ],
   "source": [
    "df.fuel_efficiency_mpg"
   ]
  },
  {
   "cell_type": "code",
   "execution_count": 10,
   "id": "fa147a3d-79bf-4d76-a2cf-d19ceddc1ad5",
   "metadata": {},
   "outputs": [
    {
     "data": {
      "image/png": "[encoded data removed]",
      "text/plain": [
       "<Figure size 640x480 with 1 Axes>"
      ]
     },
     "metadata": {},
     "output_type": "display_data"
    }
   ],
   "source": [
    "sns.histplot(df.fuel_efficiency_mpg);"
   ]
  },
  {
   "cell_type": "markdown",
   "id": "8db422bf-dec0-4789-9ba6-26877cf61718",
   "metadata": {},
   "source": [
    "The `fuel_efficiency_mpg` variable does not have a long tail. It's very close to a normal distribution"
   ]
  },
  {
   "cell_type": "markdown",
   "id": "9d2fcff7-87a1-4304-ae0d-09000292ee7d",
   "metadata": {},
   "source": [
    "### Question 1\n",
    "There's one column with missing values. What is it?\n",
    "```\n",
    "'engine_displacement'\n",
    "'horsepower'\n",
    "'vehicle_weight'\n",
    "'model_year'\n",
    "```"
   ]
  },
  {
   "cell_type": "code",
   "execution_count": 11,
   "id": "33c5756b-99ca-437b-910a-46704cfa4dd0",
   "metadata": {},
   "outputs": [
    {
     "data": {
      "text/plain": [
       "engine_displacement      0\n",
       "horsepower             708\n",
       "vehicle_weight           0\n",
       "model_year               0\n",
       "fuel_efficiency_mpg      0\n",
       "dtype: int64"
      ]
     },
     "execution_count": 11,
     "metadata": {},
     "output_type": "execute_result"
    }
   ],
   "source": [
    "df.isnull().sum()"
   ]
  },
  {
   "cell_type": "markdown",
   "id": "fdf97405-45da-478f-b112-bbb10fb7aded",
   "metadata": {},
   "source": [
    "The `horsepower` column has 708 missing values"
   ]
  },
  {
   "cell_type": "code",
   "execution_count": 12,
   "id": "5d47f8f4-018a-4c9d-bc2f-4456076e8412",
   "metadata": {},
   "outputs": [
    {
     "data": {
      "text/plain": [
       "False    9704\n",
       "Name: count, dtype: int64"
      ]
     },
     "execution_count": 12,
     "metadata": {},
     "output_type": "execute_result"
    }
   ],
   "source": [
    "# Checking if there's any duplicate values\n",
    "df.duplicated().value_counts()"
   ]
  },
  {
   "cell_type": "markdown",
   "id": "ec58a3cf-888c-48e4-b713-67b4f780b03a",
   "metadata": {},
   "source": [
    "### Question 2\n",
    "What's the median (50% percentile) for variable 'horsepower'?\n",
    "```\n",
    "49\n",
    "99\n",
    "149\n",
    "199\n",
    "```"
   ]
  },
  {
   "cell_type": "code",
   "execution_count": 13,
   "id": "e6ee78f6-afc5-4596-bc54-c1c03964c7d3",
   "metadata": {},
   "outputs": [
    {
     "data": {
      "text/plain": [
       "np.float64(149.0)"
      ]
     },
     "execution_count": 13,
     "metadata": {},
     "output_type": "execute_result"
    }
   ],
   "source": [
    "df.horsepower.median()"
   ]
  },
  {
   "cell_type": "code",
   "execution_count": 14,
   "id": "79061abc-8a41-4c69-9e07-9955a2cdc8ee",
   "metadata": {},
   "outputs": [
    {
     "data": {
      "text/html": [
       "<div>\n",
       "<style scoped>\n",
       "    .dataframe tbody tr th:only-of-type {\n",
       "        vertical-align: middle;\n",
       "    }\n",
       "\n",
       "    .dataframe tbody tr th {\n",
       "        vertical-align: top;\n",
       "    }\n",
       "\n",
       "    .dataframe thead th {\n",
       "        text-align: right;\n",
       "    }\n",
       "</style>\n",
       "<table border=\"1\" class=\"dataframe\">\n",
       "  <thead>\n",
       "    <tr style=\"text-align: right;\">\n",
       "      <th></th>\n",
       "      <th>count</th>\n",
       "      <th>mean</th>\n",
       "      <th>std</th>\n",
       "      <th>min</th>\n",
       "      <th>25%</th>\n",
       "      <th>50%</th>\n",
       "      <th>75%</th>\n",
       "      <th>max</th>\n",
       "    </tr>\n",
       "  </thead>\n",
       "  <tbody>\n",
       "    <tr>\n",
       "      <th>engine_displacement</th>\n",
       "      <td>9704.0</td>\n",
       "      <td>199.708368</td>\n",
       "      <td>49.455319</td>\n",
       "      <td>10.000000</td>\n",
       "      <td>170.000000</td>\n",
       "      <td>200.000000</td>\n",
       "      <td>230.000000</td>\n",
       "      <td>380.000000</td>\n",
       "    </tr>\n",
       "    <tr>\n",
       "      <th>horsepower</th>\n",
       "      <td>8996.0</td>\n",
       "      <td>149.657292</td>\n",
       "      <td>29.879555</td>\n",
       "      <td>37.000000</td>\n",
       "      <td>130.000000</td>\n",
       "      <td>149.000000</td>\n",
       "      <td>170.000000</td>\n",
       "      <td>271.000000</td>\n",
       "    </tr>\n",
       "    <tr>\n",
       "      <th>vehicle_weight</th>\n",
       "      <td>9704.0</td>\n",
       "      <td>3001.280993</td>\n",
       "      <td>497.894860</td>\n",
       "      <td>952.681761</td>\n",
       "      <td>2666.248985</td>\n",
       "      <td>2993.226296</td>\n",
       "      <td>3334.957039</td>\n",
       "      <td>4739.077089</td>\n",
       "    </tr>\n",
       "    <tr>\n",
       "      <th>model_year</th>\n",
       "      <td>9704.0</td>\n",
       "      <td>2011.484027</td>\n",
       "      <td>6.659808</td>\n",
       "      <td>2000.000000</td>\n",
       "      <td>2006.000000</td>\n",
       "      <td>2012.000000</td>\n",
       "      <td>2017.000000</td>\n",
       "      <td>2023.000000</td>\n",
       "    </tr>\n",
       "    <tr>\n",
       "      <th>fuel_efficiency_mpg</th>\n",
       "      <td>9704.0</td>\n",
       "      <td>14.985243</td>\n",
       "      <td>2.556468</td>\n",
       "      <td>6.200971</td>\n",
       "      <td>13.267459</td>\n",
       "      <td>15.006037</td>\n",
       "      <td>16.707965</td>\n",
       "      <td>25.967222</td>\n",
       "    </tr>\n",
       "  </tbody>\n",
       "</table>\n",
       "</div>"
      ],
      "text/plain": [
       "                      count         mean         std          min  \\\n",
       "engine_displacement  9704.0   199.708368   49.455319    10.000000   \n",
       "horsepower           8996.0   149.657292   29.879555    37.000000   \n",
       "vehicle_weight       9704.0  3001.280993  497.894860   952.681761   \n",
       "model_year           9704.0  2011.484027    6.659808  2000.000000   \n",
       "fuel_efficiency_mpg  9704.0    14.985243    2.556468     6.200971   \n",
       "\n",
       "                             25%          50%          75%          max  \n",
       "engine_displacement   170.000000   200.000000   230.000000   380.000000  \n",
       "horsepower            130.000000   149.000000   170.000000   271.000000  \n",
       "vehicle_weight       2666.248985  2993.226296  3334.957039  4739.077089  \n",
       "model_year           2006.000000  2012.000000  2017.000000  2023.000000  \n",
       "fuel_efficiency_mpg    13.267459    15.006037    16.707965    25.967222  "
      ]
     },
     "execution_count": 14,
     "metadata": {},
     "output_type": "execute_result"
    }
   ],
   "source": [
    "# Also we can check it by descriptive statistics\n",
    "df.describe().T"
   ]
  },
  {
   "cell_type": "markdown",
   "id": "e6f9eeef-b568-46f8-9a9f-0d00f443efd4",
   "metadata": {},
   "source": [
    "## Prepare and split the dataset\n",
    "```\n",
    "- Shuffle the dataset (the filtered one you created above), use seed 42.\n",
    "- Split your data in train/val/test sets, with 60%/20%/20% distribution.\n",
    "```\n",
    "Use the same code as in the lectures"
   ]
  },
  {
   "cell_type": "code",
   "execution_count": 15,
   "id": "d716df97-28e0-4c81-a43d-2112a3fc666e",
   "metadata": {},
   "outputs": [
    {
     "name": "stdout",
     "output_type": "stream",
     "text": [
      "First 5 elements before shuffling: [0 1 2 3 4]\n",
      "First 5 elements after shuffling: [ 483 7506 8795 1688 6217]\n"
     ]
    }
   ],
   "source": [
    "# Creating a random seed of 42\n",
    "np.random.seed(42)\n",
    "\n",
    "# Creating an array of index equal to the length of the dataset\n",
    "df_length = len(df)\n",
    "idx = np.arange(df_length)\n",
    "print(f\"First 5 elements before shuffling: {idx[:5]}\")\n",
    "\n",
    "# Shuffling the indexes\n",
    "np.random.shuffle(idx)\n",
    "print(f\"First 5 elements after shuffling: {idx[:5]}\")"
   ]
  },
  {
   "cell_type": "code",
   "execution_count": 16,
   "id": "0b329593-9831-4bca-ae73-fb43161ab13c",
   "metadata": {},
   "outputs": [
    {
     "data": {
      "text/plain": [
       "(5824, 1940, 1940)"
      ]
     },
     "execution_count": 16,
     "metadata": {},
     "output_type": "execute_result"
    }
   ],
   "source": [
    "# Splitting the dataset into train/val/test -> 60/20/20\n",
    "n_val = int(df_length * 0.2)\n",
    "n_test = int(df_length * 0.2)\n",
    "n_train = df_length - n_val - n_test\n",
    "n_train, n_val, n_test"
   ]
  },
  {
   "cell_type": "code",
   "execution_count": 17,
   "id": "163201e8-6aef-437c-911f-ea40cf6fe9d6",
   "metadata": {},
   "outputs": [
    {
     "data": {
      "text/plain": [
       "True"
      ]
     },
     "execution_count": 17,
     "metadata": {},
     "output_type": "execute_result"
    }
   ],
   "source": [
    "df_length == n_train + n_val + n_test"
   ]
  },
  {
   "cell_type": "code",
   "execution_count": 18,
   "id": "0c245826-30dd-4986-bba6-e217d6a57bca",
   "metadata": {},
   "outputs": [],
   "source": [
    "df_train = df.iloc[idx[:n_train]]\n",
    "df_val = df.iloc[idx[n_train: n_train+n_val]]\n",
    "df_test = df.iloc[idx[n_train+n_val: ]]"
   ]
  },
  {
   "cell_type": "code",
   "execution_count": 19,
   "id": "22abd582-f360-4679-a177-d01a520397f1",
   "metadata": {},
   "outputs": [
    {
     "data": {
      "text/plain": [
       "(5824, 1940, 1940)"
      ]
     },
     "execution_count": 19,
     "metadata": {},
     "output_type": "execute_result"
    }
   ],
   "source": [
    "len(df_train), len(df_val), len(df_test)"
   ]
  },
  {
   "cell_type": "code",
   "execution_count": 20,
   "id": "0d701be1-ecb5-472e-9e07-13396f265974",
   "metadata": {},
   "outputs": [
    {
     "data": {
      "text/html": [
       "<div>\n",
       "<style scoped>\n",
       "    .dataframe tbody tr th:only-of-type {\n",
       "        vertical-align: middle;\n",
       "    }\n",
       "\n",
       "    .dataframe tbody tr th {\n",
       "        vertical-align: top;\n",
       "    }\n",
       "\n",
       "    .dataframe thead th {\n",
       "        text-align: right;\n",
       "    }\n",
       "</style>\n",
       "<table border=\"1\" class=\"dataframe\">\n",
       "  <thead>\n",
       "    <tr style=\"text-align: right;\">\n",
       "      <th></th>\n",
       "      <th>engine_displacement</th>\n",
       "      <th>horsepower</th>\n",
       "      <th>vehicle_weight</th>\n",
       "      <th>model_year</th>\n",
       "      <th>fuel_efficiency_mpg</th>\n",
       "    </tr>\n",
       "  </thead>\n",
       "  <tbody>\n",
       "    <tr>\n",
       "      <th>6163</th>\n",
       "      <td>180</td>\n",
       "      <td>112.0</td>\n",
       "      <td>2772.134410</td>\n",
       "      <td>2020</td>\n",
       "      <td>15.366341</td>\n",
       "    </tr>\n",
       "    <tr>\n",
       "      <th>3313</th>\n",
       "      <td>260</td>\n",
       "      <td>138.0</td>\n",
       "      <td>3014.061530</td>\n",
       "      <td>2022</td>\n",
       "      <td>14.601182</td>\n",
       "    </tr>\n",
       "    <tr>\n",
       "      <th>4781</th>\n",
       "      <td>140</td>\n",
       "      <td>181.0</td>\n",
       "      <td>3652.186151</td>\n",
       "      <td>2016</td>\n",
       "      <td>12.247032</td>\n",
       "    </tr>\n",
       "    <tr>\n",
       "      <th>8210</th>\n",
       "      <td>270</td>\n",
       "      <td>105.0</td>\n",
       "      <td>2753.040847</td>\n",
       "      <td>2023</td>\n",
       "      <td>15.136400</td>\n",
       "    </tr>\n",
       "    <tr>\n",
       "      <th>6713</th>\n",
       "      <td>170</td>\n",
       "      <td>224.0</td>\n",
       "      <td>4163.375137</td>\n",
       "      <td>2003</td>\n",
       "      <td>10.340419</td>\n",
       "    </tr>\n",
       "  </tbody>\n",
       "</table>\n",
       "</div>"
      ],
      "text/plain": [
       "      engine_displacement  horsepower  vehicle_weight  model_year  \\\n",
       "6163                  180       112.0     2772.134410        2020   \n",
       "3313                  260       138.0     3014.061530        2022   \n",
       "4781                  140       181.0     3652.186151        2016   \n",
       "8210                  270       105.0     2753.040847        2023   \n",
       "6713                  170       224.0     4163.375137        2003   \n",
       "\n",
       "      fuel_efficiency_mpg  \n",
       "6163            15.366341  \n",
       "3313            14.601182  \n",
       "4781            12.247032  \n",
       "8210            15.136400  \n",
       "6713            10.340419  "
      ]
     },
     "execution_count": 20,
     "metadata": {},
     "output_type": "execute_result"
    }
   ],
   "source": [
    "df_val.head()"
   ]
  },
  {
   "cell_type": "code",
   "execution_count": 21,
   "id": "6fe84eed-3ba5-4a80-920b-8c8f81f66f0b",
   "metadata": {},
   "outputs": [],
   "source": [
    "df_train = df_train.reset_index(drop=True)\n",
    "df_val = df_val.reset_index(drop=True)\n",
    "df_test = df_test.reset_index(drop=True)"
   ]
  },
  {
   "cell_type": "code",
   "execution_count": 22,
   "id": "4b0f226f-237d-494d-9dec-021c702088b2",
   "metadata": {},
   "outputs": [
    {
     "data": {
      "text/html": [
       "<div>\n",
       "<style scoped>\n",
       "    .dataframe tbody tr th:only-of-type {\n",
       "        vertical-align: middle;\n",
       "    }\n",
       "\n",
       "    .dataframe tbody tr th {\n",
       "        vertical-align: top;\n",
       "    }\n",
       "\n",
       "    .dataframe thead th {\n",
       "        text-align: right;\n",
       "    }\n",
       "</style>\n",
       "<table border=\"1\" class=\"dataframe\">\n",
       "  <thead>\n",
       "    <tr style=\"text-align: right;\">\n",
       "      <th></th>\n",
       "      <th>engine_displacement</th>\n",
       "      <th>horsepower</th>\n",
       "      <th>vehicle_weight</th>\n",
       "      <th>model_year</th>\n",
       "      <th>fuel_efficiency_mpg</th>\n",
       "    </tr>\n",
       "  </thead>\n",
       "  <tbody>\n",
       "    <tr>\n",
       "      <th>0</th>\n",
       "      <td>180</td>\n",
       "      <td>112.0</td>\n",
       "      <td>2772.134410</td>\n",
       "      <td>2020</td>\n",
       "      <td>15.366341</td>\n",
       "    </tr>\n",
       "    <tr>\n",
       "      <th>1</th>\n",
       "      <td>260</td>\n",
       "      <td>138.0</td>\n",
       "      <td>3014.061530</td>\n",
       "      <td>2022</td>\n",
       "      <td>14.601182</td>\n",
       "    </tr>\n",
       "    <tr>\n",
       "      <th>2</th>\n",
       "      <td>140</td>\n",
       "      <td>181.0</td>\n",
       "      <td>3652.186151</td>\n",
       "      <td>2016</td>\n",
       "      <td>12.247032</td>\n",
       "    </tr>\n",
       "    <tr>\n",
       "      <th>3</th>\n",
       "      <td>270</td>\n",
       "      <td>105.0</td>\n",
       "      <td>2753.040847</td>\n",
       "      <td>2023</td>\n",
       "      <td>15.136400</td>\n",
       "    </tr>\n",
       "    <tr>\n",
       "      <th>4</th>\n",
       "      <td>170</td>\n",
       "      <td>224.0</td>\n",
       "      <td>4163.375137</td>\n",
       "      <td>2003</td>\n",
       "      <td>10.340419</td>\n",
       "    </tr>\n",
       "  </tbody>\n",
       "</table>\n",
       "</div>"
      ],
      "text/plain": [
       "   engine_displacement  horsepower  vehicle_weight  model_year  \\\n",
       "0                  180       112.0     2772.134410        2020   \n",
       "1                  260       138.0     3014.061530        2022   \n",
       "2                  140       181.0     3652.186151        2016   \n",
       "3                  270       105.0     2753.040847        2023   \n",
       "4                  170       224.0     4163.375137        2003   \n",
       "\n",
       "   fuel_efficiency_mpg  \n",
       "0            15.366341  \n",
       "1            14.601182  \n",
       "2            12.247032  \n",
       "3            15.136400  \n",
       "4            10.340419  "
      ]
     },
     "execution_count": 22,
     "metadata": {},
     "output_type": "execute_result"
    }
   ],
   "source": [
    "df_val.head()"
   ]
  },
  {
   "cell_type": "code",
   "execution_count": 23,
   "id": "9da5e833-0406-4424-b750-2f089699c1cf",
   "metadata": {},
   "outputs": [],
   "source": [
    "y_train = df_train.fuel_efficiency_mpg.values\n",
    "y_val = df_val.fuel_efficiency_mpg.values\n",
    "y_test = df_test.fuel_efficiency_mpg.values"
   ]
  },
  {
   "cell_type": "code",
   "execution_count": 24,
   "id": "34a4ea05-018c-462a-954e-f7be6e26e19f",
   "metadata": {},
   "outputs": [
    {
     "data": {
      "text/plain": [
       "0       16.642943\n",
       "1       16.298377\n",
       "2       18.591822\n",
       "3       11.818843\n",
       "4       19.402209\n",
       "          ...    \n",
       "5819    16.964054\n",
       "5820    10.059094\n",
       "5821    17.593237\n",
       "5822    18.925748\n",
       "5823    17.965284\n",
       "Name: fuel_efficiency_mpg, Length: 5824, dtype: float64"
      ]
     },
     "execution_count": 24,
     "metadata": {},
     "output_type": "execute_result"
    }
   ],
   "source": [
    "df_train.fuel_efficiency_mpg"
   ]
  },
  {
   "cell_type": "code",
   "execution_count": 25,
   "id": "bdfd8f8c-106e-41e4-a477-97b69434ab84",
   "metadata": {},
   "outputs": [],
   "source": [
    "del df_train['fuel_efficiency_mpg']\n",
    "del df_val['fuel_efficiency_mpg']\n",
    "del df_test['fuel_efficiency_mpg']"
   ]
  },
  {
   "cell_type": "markdown",
   "id": "7839c560-8ac2-4fca-8b5f-0635482e6e8e",
   "metadata": {},
   "source": [
    "### Question 3\n",
    "```\n",
    "- We need to deal with missing values for the column from Q1.\n",
    "- We have two options: fill it with 0 or with the mean of this variable.\n",
    "- Try both options. For each, train a linear regression model without regularization using the code from the lessons.\n",
    "- For computing the mean, use the training only!\n",
    "- Use the validation dataset to evaluate the models and compare the RMSE of each option.\n",
    "- Round the RMSE scores to 2 decimal digits using round(score, 2)\n",
    "- Which option gives better RMSE?\n",
    "```"
   ]
  },
  {
   "cell_type": "markdown",
   "id": "b8a0e1a9-cdd8-4b53-a6c0-a0f8366333b0",
   "metadata": {},
   "source": [
    "#### Filling missing values with zeros"
   ]
  },
  {
   "cell_type": "code",
   "execution_count": 26,
   "id": "72b972d7-8d7e-4d21-8cac-79b5e3da10e9",
   "metadata": {},
   "outputs": [],
   "source": [
    "df_train_orig = df_train.copy()\n",
    "df_val_orig = df_val.copy()"
   ]
  },
  {
   "cell_type": "code",
   "execution_count": 27,
   "id": "0d657a1f-3f66-401c-be5a-bd2a79f648f2",
   "metadata": {},
   "outputs": [
    {
     "data": {
      "text/plain": [
       "np.int64(429)"
      ]
     },
     "execution_count": 27,
     "metadata": {},
     "output_type": "execute_result"
    }
   ],
   "source": [
    "df_train.horsepower.isnull().sum()"
   ]
  },
  {
   "cell_type": "markdown",
   "id": "1588b609-c479-4f34-85f0-a57c2166d618",
   "metadata": {},
   "source": [
    "We know, the normal equation is:\n",
    "```\n",
    "w = (X.T * X)^-1 * X.T * y\n",
    "```"
   ]
  },
  {
   "cell_type": "code",
   "execution_count": 28,
   "id": "add49073-8045-4c6c-9360-f1dc35b0cb89",
   "metadata": {},
   "outputs": [
    {
     "data": {
      "text/plain": [
       "['engine_displacement',\n",
       " 'horsepower',\n",
       " 'vehicle_weight',\n",
       " 'model_year',\n",
       " 'fuel_efficiency_mpg']"
      ]
     },
     "execution_count": 28,
     "metadata": {},
     "output_type": "execute_result"
    }
   ],
   "source": [
    "cols"
   ]
  },
  {
   "cell_type": "code",
   "execution_count": 29,
   "id": "c2978a23-6796-4f90-8f6e-ded3b86d1d62",
   "metadata": {},
   "outputs": [],
   "source": [
    "feature_cols = ['engine_displacement', 'horsepower', 'vehicle_weight', 'model_year']\n",
    "def prepare_X(df, fill_value=0):\n",
    "    df = df[feature_cols]\n",
    "    df = df.fillna(fill_value)\n",
    "    X = df.values\n",
    "    return X"
   ]
  },
  {
   "cell_type": "code",
   "execution_count": 30,
   "id": "d22fae09-3ba2-4621-a0d6-e4a49b290d22",
   "metadata": {},
   "outputs": [],
   "source": [
    "def linear_regression(X, y):\n",
    "    ones = np.ones(X.shape[0])\n",
    "    X = np.column_stack([ones, X])\n",
    "    XTX = X.T.dot(X)\n",
    "    XTX_inv = np.linalg.inv(XTX)\n",
    "    w = XTX_inv.dot(X.T).dot(y_train)\n",
    "    return w[0], w[1:]"
   ]
  },
  {
   "cell_type": "code",
   "execution_count": 31,
   "id": "37e8076f-4036-413c-809d-d8eef914e02a",
   "metadata": {},
   "outputs": [],
   "source": [
    "def rmse(y_pred, y_true):\n",
    "    mse = ((y_pred-y_true)**2).mean()\n",
    "    return np.sqrt(mse)"
   ]
  },
  {
   "cell_type": "code",
   "execution_count": 32,
   "id": "a92258af-4b66-402a-abd7-64d6050adc4e",
   "metadata": {},
   "outputs": [],
   "source": [
    "X_train_zero = prepare_X(df_train)\n",
    "X_val_zero = prepare_X(df_val)"
   ]
  },
  {
   "cell_type": "code",
   "execution_count": 33,
   "id": "54311b21-0802-42c4-8c66-90abde80b93c",
   "metadata": {},
   "outputs": [],
   "source": [
    "w0_zero, w_zero = linear_regression(X_train_zero, y_train)"
   ]
  },
  {
   "cell_type": "code",
   "execution_count": 34,
   "id": "78e80b50-a4a0-41ef-8cbf-de971e10e941",
   "metadata": {},
   "outputs": [
    {
     "data": {
      "text/plain": [
       "((), (4,), (1940, 4))"
      ]
     },
     "execution_count": 34,
     "metadata": {},
     "output_type": "execute_result"
    }
   ],
   "source": [
    "w0_zero.shape, w_zero.shape, X_val_zero.shape"
   ]
  },
  {
   "cell_type": "code",
   "execution_count": 35,
   "id": "c6a6da87-c8ba-4c49-8d3a-a79e36a89ae5",
   "metadata": {},
   "outputs": [],
   "source": [
    "y_pred_zero = w0_zero + w_zero.dot(X_val_zero.T)"
   ]
  },
  {
   "cell_type": "code",
   "execution_count": 36,
   "id": "4cf5cb6d-37c4-4a8b-9a12-8703c6d29f03",
   "metadata": {},
   "outputs": [
    {
     "data": {
      "text/plain": [
       "np.float64(0.52)"
      ]
     },
     "execution_count": 36,
     "metadata": {},
     "output_type": "execute_result"
    }
   ],
   "source": [
    "np.round(rmse(y_pred_zero, y_val), 2)"
   ]
  },
  {
   "cell_type": "markdown",
   "id": "bfe6dd7d-ec20-4b36-912c-adfe8a30a560",
   "metadata": {},
   "source": [
    "#### Filling missing values with mean"
   ]
  },
  {
   "cell_type": "code",
   "execution_count": 37,
   "id": "d99f5550-3bee-4175-bdf3-a33887dfca9f",
   "metadata": {},
   "outputs": [],
   "source": [
    "df_train = df_train_orig.copy()\n",
    "df_val = df_val_orig.copy()"
   ]
  },
  {
   "cell_type": "code",
   "execution_count": 38,
   "id": "12f1140f-c19c-441f-9e9b-6d437a0c0414",
   "metadata": {},
   "outputs": [
    {
     "data": {
      "text/plain": [
       "np.int64(429)"
      ]
     },
     "execution_count": 38,
     "metadata": {},
     "output_type": "execute_result"
    }
   ],
   "source": [
    "df_train.horsepower.isnull().sum()"
   ]
  },
  {
   "cell_type": "code",
   "execution_count": 39,
   "id": "244b7bb2-12be-46f9-8ac3-829401e72108",
   "metadata": {},
   "outputs": [
    {
     "data": {
      "text/html": [
       "<div>\n",
       "<style scoped>\n",
       "    .dataframe tbody tr th:only-of-type {\n",
       "        vertical-align: middle;\n",
       "    }\n",
       "\n",
       "    .dataframe tbody tr th {\n",
       "        vertical-align: top;\n",
       "    }\n",
       "\n",
       "    .dataframe thead th {\n",
       "        text-align: right;\n",
       "    }\n",
       "</style>\n",
       "<table border=\"1\" class=\"dataframe\">\n",
       "  <thead>\n",
       "    <tr style=\"text-align: right;\">\n",
       "      <th></th>\n",
       "      <th>engine_displacement</th>\n",
       "      <th>horsepower</th>\n",
       "      <th>vehicle_weight</th>\n",
       "      <th>model_year</th>\n",
       "    </tr>\n",
       "  </thead>\n",
       "  <tbody>\n",
       "    <tr>\n",
       "      <th>0</th>\n",
       "      <td>220</td>\n",
       "      <td>144.0</td>\n",
       "      <td>2535.887591</td>\n",
       "      <td>2009</td>\n",
       "    </tr>\n",
       "    <tr>\n",
       "      <th>1</th>\n",
       "      <td>160</td>\n",
       "      <td>141.0</td>\n",
       "      <td>2741.170484</td>\n",
       "      <td>2019</td>\n",
       "    </tr>\n",
       "    <tr>\n",
       "      <th>2</th>\n",
       "      <td>230</td>\n",
       "      <td>155.0</td>\n",
       "      <td>2471.880237</td>\n",
       "      <td>2017</td>\n",
       "    </tr>\n",
       "    <tr>\n",
       "      <th>3</th>\n",
       "      <td>150</td>\n",
       "      <td>206.0</td>\n",
       "      <td>3748.164469</td>\n",
       "      <td>2015</td>\n",
       "    </tr>\n",
       "    <tr>\n",
       "      <th>4</th>\n",
       "      <td>300</td>\n",
       "      <td>111.0</td>\n",
       "      <td>2135.716359</td>\n",
       "      <td>2006</td>\n",
       "    </tr>\n",
       "  </tbody>\n",
       "</table>\n",
       "</div>"
      ],
      "text/plain": [
       "   engine_displacement  horsepower  vehicle_weight  model_year\n",
       "0                  220       144.0     2535.887591        2009\n",
       "1                  160       141.0     2741.170484        2019\n",
       "2                  230       155.0     2471.880237        2017\n",
       "3                  150       206.0     3748.164469        2015\n",
       "4                  300       111.0     2135.716359        2006"
      ]
     },
     "execution_count": 39,
     "metadata": {},
     "output_type": "execute_result"
    }
   ],
   "source": [
    "df_train.head()"
   ]
  },
  {
   "cell_type": "code",
   "execution_count": 40,
   "id": "43c3adbb-707d-41e2-beef-4f95e2322b7a",
   "metadata": {},
   "outputs": [],
   "source": [
    "mean = df_train['horsepower'].mean()"
   ]
  },
  {
   "cell_type": "code",
   "execution_count": 41,
   "id": "f0874a8c-f035-477c-a54f-f8f628da2d65",
   "metadata": {},
   "outputs": [],
   "source": [
    "X_train_mean = prepare_X(df_train, mean)\n",
    "X_val_mean = prepare_X(df_val, mean)"
   ]
  },
  {
   "cell_type": "code",
   "execution_count": 42,
   "id": "951f0ed1-02cc-4fde-a132-b32f7b4af6e5",
   "metadata": {},
   "outputs": [],
   "source": [
    "w0_mean, w_mean = linear_regression(X_train_mean, y_train)"
   ]
  },
  {
   "cell_type": "code",
   "execution_count": 43,
   "id": "ec3abc85-61cd-4771-a51a-aecc4969e164",
   "metadata": {},
   "outputs": [],
   "source": [
    "y_pred_mean = w0_mean + w_mean.dot(X_val_mean.T)"
   ]
  },
  {
   "cell_type": "code",
   "execution_count": 44,
   "id": "21297a9e-eead-4241-86ab-f5ef6da0e21b",
   "metadata": {},
   "outputs": [
    {
     "data": {
      "text/plain": [
       "np.float64(0.46)"
      ]
     },
     "execution_count": 44,
     "metadata": {},
     "output_type": "execute_result"
    }
   ],
   "source": [
    "np.round(rmse(y_pred_mean, y_val), 2)"
   ]
  },
  {
   "cell_type": "markdown",
   "id": "a88fa37c-ce84-4b31-855b-ef87d6119258",
   "metadata": {},
   "source": [
    "In this case we can see, filling missing values with `mean` value of `horsepower` column gives us a better RMSE loss"
   ]
  },
  {
   "cell_type": "markdown",
   "id": "5d629048-7b7c-4763-a83c-0c7aeec274b4",
   "metadata": {},
   "source": [
    "### Question 4\n",
    "Now let's train a regularized linear regression.\n",
    "```\n",
    "- For this question, fill the NAs with 0.\n",
    "- Try different values of r from this list: [0, 0.01, 0.1, 1, 5, 10, 100].\n",
    "- Use RMSE to evaluate the model on the validation dataset.\n",
    "- Round the RMSE scores to 2 decimal digits.\n",
    "- Which r gives the best RMSE?\n",
    "\n",
    "If multiple options give the same best RMSE, select the smallest r.\n",
    "\n",
    "Options:\n",
    "\n",
    "0\n",
    "0.01\n",
    "1\n",
    "10\n",
    "100\n",
    "```"
   ]
  },
  {
   "cell_type": "code",
   "execution_count": 45,
   "id": "13261af3-dff4-42bd-9d2b-18961b78e59d",
   "metadata": {},
   "outputs": [],
   "source": [
    "# fill the NAs with 0.\n",
    "df_train = df_train_orig.copy()\n",
    "df_val = df_val_orig.copy()"
   ]
  },
  {
   "cell_type": "code",
   "execution_count": 46,
   "id": "c0b42513-1896-46be-9877-21fa4b3e3609",
   "metadata": {},
   "outputs": [
    {
     "data": {
      "text/plain": [
       "np.int64(429)"
      ]
     },
     "execution_count": 46,
     "metadata": {},
     "output_type": "execute_result"
    }
   ],
   "source": [
    "df_train.horsepower.isnull().sum()"
   ]
  },
  {
   "cell_type": "code",
   "execution_count": 47,
   "id": "a431917f-ff12-4cdf-8184-49d4953f9331",
   "metadata": {},
   "outputs": [],
   "source": [
    "def linear_regression_reg(X, y, r=0.0):\n",
    "    ones = np.ones(X.shape[0])\n",
    "    X = np.column_stack([ones, X])\n",
    "\n",
    "    XTX = X.T.dot(X)\n",
    "    reg = r * np.eye(XTX.shape[0])\n",
    "    XTX = XTX + reg\n",
    "\n",
    "    XTX_inv = np.linalg.inv(XTX)\n",
    "    w = XTX_inv.dot(X.T).dot(y)\n",
    "    \n",
    "    return w[0], w[1:]"
   ]
  },
  {
   "cell_type": "code",
   "execution_count": 48,
   "id": "7d997ebe-596d-4fd4-bc07-2c71cb2d66db",
   "metadata": {},
   "outputs": [
    {
     "name": "stdout",
     "output_type": "stream",
     "text": [
      "For the value of r=0, the RMSE loss is=0.52\n",
      "For the value of r=0.01, the RMSE loss is=0.52\n",
      "For the value of r=0.1, the RMSE loss is=0.52\n",
      "For the value of r=1, the RMSE loss is=0.52\n",
      "For the value of r=5, the RMSE loss is=0.52\n",
      "For the value of r=10, the RMSE loss is=0.52\n",
      "For the value of r=100, the RMSE loss is=0.52\n"
     ]
    }
   ],
   "source": [
    "rmse_losses = []\n",
    "for r in [0, 0.01, 0.1, 1, 5, 10, 100]:\n",
    "    X_train_zero = prepare_X(df_train, 0)\n",
    "    X_val_zero = prepare_X(df_val, 0)\n",
    "    w0, w = linear_regression_reg(X_train_zero, y_train, r)\n",
    "    y_pred = w0 + X_val_zero.dot(w)\n",
    "    loss = np.round(rmse(y_pred, y_val), 2)\n",
    "    rmse_losses.append(loss)\n",
    "    print(f\"For the value of r={r}, the RMSE loss is={loss}\")"
   ]
  },
  {
   "cell_type": "markdown",
   "id": "f889d9c6-975e-4b0f-9548-a4f79dcac4b1",
   "metadata": {},
   "source": [
    "They all give the same RMSE loss. The smallest one is `r=0.01`"
   ]
  },
  {
   "cell_type": "code",
   "execution_count": 49,
   "id": "11f29e3d-d23d-4326-9a60-f9275f9739a5",
   "metadata": {},
   "outputs": [],
   "source": [
    "# rmse_losses = []\n",
    "# for r in [0, 0.01, 0.1, 1, 5, 10, 100]:\n",
    "#     X_train_zero = prepare_X(df_train, mean)\n",
    "#     X_val_zero = prepare_X(df_val, mean)\n",
    "#     w0, w = linear_regression_reg(X_train_zero, y_train, r)\n",
    "#     y_pred = w0 + X_val_zero.dot(w)\n",
    "#     loss = np.round(rmse(y_pred, y_val), 2)\n",
    "#     rmse_losses.append(loss)\n",
    "#     print(f\"For the value of r={r}, the RMSE loss is={loss}\")"
   ]
  },
  {
   "cell_type": "markdown",
   "id": "68fd6a60-4a1c-474e-a775-799342c445f5",
   "metadata": {},
   "source": [
    "### Question 5\n",
    "We used seed 42 for splitting the data. Let's find out how selecting the seed influences our score.\n",
    "```\n",
    "- Try different seed values: [0, 1, 2, 3, 4, 5, 6, 7, 8, 9].\n",
    "- For each seed, do the train/validation/test split with 60%/20%/20% distribution.\n",
    "- Fill the missing values with 0 and train a model without regularization.\n",
    "- For each seed, evaluate the model on the validation dataset and collect the RMSE scores.\n",
    "- What's the standard deviation of all the scores? To compute the standard deviation, use np.std.\n",
    "- Round the result to 3 decimal digits (round(std, 3))\n",
    "\n",
    "What's the value of std?\n",
    "\n",
    "0.001\n",
    "0.006\n",
    "0.060\n",
    "0.600\n",
    "```"
   ]
  },
  {
   "cell_type": "code",
   "execution_count": 50,
   "id": "7f5b6576-8f61-4af7-b3ce-cf112b169398",
   "metadata": {},
   "outputs": [
    {
     "data": {
      "text/plain": [
       "['engine_displacement',\n",
       " 'horsepower',\n",
       " 'vehicle_weight',\n",
       " 'model_year',\n",
       " 'fuel_efficiency_mpg']"
      ]
     },
     "execution_count": 50,
     "metadata": {},
     "output_type": "execute_result"
    }
   ],
   "source": [
    "cols"
   ]
  },
  {
   "cell_type": "code",
   "execution_count": 51,
   "id": "7c7f6bb9-4e4e-4a29-ab23-8a5c4a77ecbe",
   "metadata": {},
   "outputs": [],
   "source": [
    "def split_df(seed):\n",
    "    # Copying df\n",
    "    df = orig_df.copy()\n",
    "\n",
    "    # Creating a new df with required cols\n",
    "    df = df[cols]\n",
    "    n = len(df)\n",
    "    # random idx generation\n",
    "    idx = np.arange(n)\n",
    "    np.random.seed(seed)\n",
    "    np.random.shuffle(idx)\n",
    "\n",
    "    # Creating a new shuffled df\n",
    "    df_shuffled = df.iloc[idx]\n",
    "    \n",
    "    df_train = df_shuffled.iloc[:n_train].copy()\n",
    "    df_val = df_shuffled.iloc[n_train:n_train+n_val].copy()\n",
    "    df_test = df_shuffled.iloc[n_train+n_val:].copy()\n",
    "\n",
    "    df_train = df_train.reset_index(drop=True)\n",
    "    df_val = df_val.reset_index(drop=True)\n",
    "    df_test = df_test.reset_index(drop=True)\n",
    "    \n",
    "    y_train = df_train.fuel_efficiency_mpg.values\n",
    "    y_val = df_val.fuel_efficiency_mpg.values\n",
    "    y_test = df_test.fuel_efficiency_mpg.values\n",
    "    \n",
    "    del df_train['fuel_efficiency_mpg']\n",
    "    del df_val['fuel_efficiency_mpg']\n",
    "    del df_test['fuel_efficiency_mpg']\n",
    "\n",
    "    return df_train, y_train, df_val, y_val, df_test, y_test"
   ]
  },
  {
   "cell_type": "code",
   "execution_count": 52,
   "id": "6134a694-cd87-4be8-a096-e5e34b83a1f6",
   "metadata": {},
   "outputs": [
    {
     "name": "stdout",
     "output_type": "stream",
     "text": [
      "For the value of seed=0, the RMSE loss is=0.52\n",
      "For the value of seed=1, the RMSE loss is=0.52\n",
      "For the value of seed=2, the RMSE loss is=0.52\n",
      "For the value of seed=3, the RMSE loss is=0.52\n",
      "For the value of seed=4, the RMSE loss is=0.51\n",
      "For the value of seed=5, the RMSE loss is=0.53\n",
      "For the value of seed=6, the RMSE loss is=0.53\n",
      "For the value of seed=7, the RMSE loss is=0.51\n",
      "For the value of seed=8, the RMSE loss is=0.51\n",
      "For the value of seed=9, the RMSE loss is=0.51\n"
     ]
    }
   ],
   "source": [
    "rmse_losses = []\n",
    "for seed in [0, 1, 2, 3, 4, 5, 6, 7, 8, 9]:\n",
    "    df_train, y_train, df_val, y_val, df_test, y_test = split_df(seed)\n",
    "    \n",
    "    X_train_zero = prepare_X(df_train, 0)\n",
    "    X_val_zero = prepare_X(df_val, 0)\n",
    "    \n",
    "    w0, w = linear_regression(X_train_zero, y_train)\n",
    "    y_pred = w0 + X_val_zero.dot(w)\n",
    "    \n",
    "    loss = np.round(rmse(y_pred, y_val), 2)\n",
    "    rmse_losses.append(loss)\n",
    "    print(f\"For the value of seed={seed}, the RMSE loss is={loss}\")"
   ]
  },
  {
   "cell_type": "code",
   "execution_count": 53,
   "id": "b0bd00c4-1d78-4a9b-9c86-ff62c7ed799b",
   "metadata": {},
   "outputs": [
    {
     "data": {
      "text/plain": [
       "[np.float64(0.52),\n",
       " np.float64(0.52),\n",
       " np.float64(0.52),\n",
       " np.float64(0.52),\n",
       " np.float64(0.51),\n",
       " np.float64(0.53),\n",
       " np.float64(0.53),\n",
       " np.float64(0.51),\n",
       " np.float64(0.51),\n",
       " np.float64(0.51)]"
      ]
     },
     "execution_count": 53,
     "metadata": {},
     "output_type": "execute_result"
    }
   ],
   "source": [
    "rmse_losses"
   ]
  },
  {
   "cell_type": "code",
   "execution_count": 54,
   "id": "1c80623e-11ca-4e23-a847-e54f72a99337",
   "metadata": {},
   "outputs": [
    {
     "data": {
      "text/plain": [
       "np.float64(0.007)"
      ]
     },
     "execution_count": 54,
     "metadata": {},
     "output_type": "execute_result"
    }
   ],
   "source": [
    "std_scores = np.round(np.std(rmse_losses), 3)\n",
    "std_scores"
   ]
  },
  {
   "cell_type": "markdown",
   "id": "c5d4eb92-ffe1-48d5-9503-495e826d32c6",
   "metadata": {},
   "source": [
    "### Question 6\n",
    "```\n",
    "- Split the dataset like previously, use seed 9.\n",
    "- Combine train and validation datasets.\n",
    "- Fill the missing values with 0 and train a model with r=0.001.\n",
    "- What's the RMSE on the test dataset?\n",
    "\n",
    "Options:\n",
    "\n",
    "0.15\n",
    "0.515\n",
    "5.15\n",
    "51.5\n",
    "```"
   ]
  },
  {
   "cell_type": "code",
   "execution_count": 55,
   "id": "ca2d2ceb-4029-474d-b251-defaaa54b221",
   "metadata": {},
   "outputs": [
    {
     "data": {
      "text/plain": [
       "np.float64(0.5156)"
      ]
     },
     "execution_count": 55,
     "metadata": {},
     "output_type": "execute_result"
    }
   ],
   "source": [
    "seed = 9\n",
    "r = 0.001\n",
    "\n",
    "df_train, y_train, df_val, y_val, df_test, y_test = split_df(seed)\n",
    "\n",
    "df_train_full = pd.concat([df_train, df_val])\n",
    "\n",
    "X_train_full = prepare_X(df_train_full, 0)\n",
    "y_train_full = np.concatenate([y_train, y_val])\n",
    "\n",
    "X_test = prepare_X(df_test)\n",
    "\n",
    "w0, w = linear_regression_reg(X_train_full, y_train_full, r)\n",
    "y_pred = w0 + X_test.dot(w)\n",
    "\n",
    "loss = np.round(rmse(y_pred, y_test), 4)\n",
    "loss"
   ]
  },
  {
   "cell_type": "code",
   "execution_count": null,
   "id": "77b1a524-0519-414f-b545-c3c80d779693",
   "metadata": {},
   "outputs": [],
   "source": []
  },
  {
   "cell_type": "code",
   "execution_count": null,
   "id": "c51ea2fe-7d75-43f0-9815-c4eaaab7c102",
   "metadata": {},
   "outputs": [],
   "source": []
  },
  {
   "cell_type": "code",
   "execution_count": null,
   "id": "682f983b-05e4-48de-9224-b52b8ff24135",
   "metadata": {},
   "outputs": [],
   "source": []
  },
  {
   "cell_type": "code",
   "execution_count": null,
   "id": "e8fe97fc-15fc-49ac-8fbb-0403d4acd6e6",
   "metadata": {},
   "outputs": [],
   "source": []
  },
  {
   "cell_type": "code",
   "execution_count": null,
   "id": "ad6a9170-5d41-4c4d-92de-1a11f586db57",
   "metadata": {},
   "outputs": [],
   "source": []
  },
  {
   "cell_type": "code",
   "execution_count": null,
   "id": "d93314e7-1739-4cb1-94e6-129f83870520",
   "metadata": {},
   "outputs": [],
   "source": []
  },
  {
   "cell_type": "code",
   "execution_count": null,
   "id": "3ab4a72d-49f6-4815-a867-eca197eaab5b",
   "metadata": {},
   "outputs": [],
   "source": []
  },
  {
   "cell_type": "code",
   "execution_count": null,
   "id": "b056c622-3081-43aa-8f84-781b1310e81a",
   "metadata": {},
   "outputs": [],
   "source": []
  },
  {
   "cell_type": "code",
   "execution_count": null,
   "id": "76eda5c6-193d-45e3-bde4-dfdc9f5c3963",
   "metadata": {},
   "outputs": [],
   "source": []
  },
  {
   "cell_type": "code",
   "execution_count": null,
   "id": "8a4160b6-0bde-4300-8acc-b3d59366db52",
   "metadata": {},
   "outputs": [],
   "source": []
  },
  {
   "cell_type": "code",
   "execution_count": null,
   "id": "37495ee9-be51-4284-8e95-7698d3dd8017",
   "metadata": {},
   "outputs": [],
   "source": []
  },
  {
   "cell_type": "code",
   "execution_count": null,
   "id": "4efe6c94-54ca-430f-9a37-f5c33e2ec236",
   "metadata": {},
   "outputs": [],
   "source": []
  },
  {
   "cell_type": "code",
   "execution_count": null,
   "id": "12ddade6-ef22-48a8-b7af-c340485f8943",
   "metadata": {},
   "outputs": [],
   "source": []
  },
  {
   "cell_type": "code",
   "execution_count": null,
   "id": "a8bf0ae9-4bb3-4b69-aa2a-b1c078eb1dd2",
   "metadata": {},
   "outputs": [],
   "source": []
  },
  {
   "cell_type": "code",
   "execution_count": null,
   "id": "b5720d91-5f5f-4b79-a2fe-e47e796c6e25",
   "metadata": {},
   "outputs": [],
   "source": []
  },
  {
   "cell_type": "code",
   "execution_count": null,
   "id": "52e15b79-6887-4b19-a9f8-ee57d545f848",
   "metadata": {},
   "outputs": [],
   "source": []
  },
  {
   "cell_type": "code",
   "execution_count": null,
   "id": "3f988d2f-3373-42a7-8f24-b82303adb6c6",
   "metadata": {},
   "outputs": [],
   "source": []
  },
  {
   "cell_type": "code",
   "execution_count": null,
   "id": "a2b51fac-3f89-4d18-a02c-fe3052f63215",
   "metadata": {},
   "outputs": [],
   "source": []
  },
  {
   "cell_type": "code",
   "execution_count": null,
   "id": "ab5d9817-56a1-4d0e-84f7-810170c093e5",
   "metadata": {},
   "outputs": [],
   "source": []
  },
  {
   "cell_type": "code",
   "execution_count": null,
   "id": "7168290f-998e-4990-b361-cff304da9b1a",
   "metadata": {},
   "outputs": [],
   "source": []
  },
  {
   "cell_type": "code",
   "execution_count": null,
   "id": "58266ddd-086d-4f0b-9921-96409a6bebe1",
   "metadata": {},
   "outputs": [],
   "source": []
  },
  {
   "cell_type": "code",
   "execution_count": null,
   "id": "7b9860d7-9787-4285-9a8a-207c25a8fa58",
   "metadata": {},
   "outputs": [],
   "source": []
  },
  {
   "cell_type": "code",
   "execution_count": null,
   "id": "d0fd46c7-1c92-4642-807c-bf060f638c0b",
   "metadata": {},
   "outputs": [],
   "source": []
  },
  {
   "cell_type": "code",
   "execution_count": null,
   "id": "391bc581-1fa5-4db1-8a58-5d20baad3cf4",
   "metadata": {},
   "outputs": [],
   "source": []
  }
 ],
 "metadata": {
  "kernelspec": {
   "display_name": "Python 3 (ipykernel)",
   "language": "python",
   "name": "python3"
  },
  "language_info": {
   "codemirror_mode": {
    "name": "ipython",
    "version": 3
   },
   "file_extension": ".py",
   "mimetype": "text/x-python",
   "name": "python",
   "nbconvert_exporter": "python",
   "pygments_lexer": "ipython3",
   "version": "3.12.11"
  },
  "widgets": {
   "application/vnd.jupyter.widget-state+json": {
    "state": {},
    "version_major": 2,
    "version_minor": 0
   }
  }
 },
 "nbformat": 4,
 "nbformat_minor": 5
}
